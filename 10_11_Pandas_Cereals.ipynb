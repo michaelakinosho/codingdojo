{
  "nbformat": 4,
  "nbformat_minor": 0,
  "metadata": {
    "colab": {
      "name": "10.11 Pandas-Cereals.ipynb",
      "provenance": [],
      "collapsed_sections": [],
      "include_colab_link": true
    },
    "kernelspec": {
      "name": "python3",
      "display_name": "Python 3"
    }
  },
  "cells": [
    {
      "cell_type": "markdown",
      "metadata": {
        "id": "view-in-github",
        "colab_type": "text"
      },
      "source": [
        "<a href=\"https://colab.research.google.com/github/michaelakinosho/codingdojo/blob/main/10_11_Pandas_Cereals.ipynb\" target=\"_parent\"><img src=\"https://colab.research.google.com/assets/colab-badge.svg\" alt=\"Open In Colab\"/></a>"
      ]
    },
    {
      "cell_type": "markdown",
      "metadata": {
        "id": "W126R0Qz5QNm"
      },
      "source": [
        "<center>\n",
        "<img src=\"https://course_report_production.s3.amazonaws.com/rich/rich_files/rich_files/2470/s300/cd-logo-blue-600x600.png\" alt=\"Coding Dojo Logo\" class=\"center\" height=\"50\">\n",
        "\n",
        "# Pandas\n",
        "\n",
        "*Make a copy of this notebook to edit!*\n",
        "```\n",
        "File > Save a copy in Drive\n",
        "```\n",
        "\n",
        "We will use data on various breakfast cereals. You can download the data [here](https://drive.google.com/file/d/1YzP0CF_stFjav6fkXeQ0J0gpk1PQoY2l/view?usp=sharing).\n",
        "\n",
        "<img src=\"https://media4.popsugar-assets.com/files/2016/02/22/834/n/1922398/10b0a4ff59945843_feb_22_cereal.xxxlarge_2x.jpg\" alt=\"Coding Dojo Logo\" class=\"center\" height=\"250\">\n",
        "\n",
        "</center>"
      ]
    },
    {
      "cell_type": "markdown",
      "metadata": {
        "id": "M3wwYi6u_VU3"
      },
      "source": [
        "Mount Data"
      ]
    },
    {
      "cell_type": "code",
      "metadata": {
        "id": "DEpgQ9ta4BBH"
      },
      "source": [
        "from google.colab import drive\n",
        "drive.mount('/content/drive')"
      ],
      "execution_count": null,
      "outputs": []
    },
    {
      "cell_type": "markdown",
      "metadata": {
        "id": "_A7msLwr_4TA"
      },
      "source": [
        "Import Libraries"
      ]
    },
    {
      "cell_type": "code",
      "metadata": {
        "id": "1qqHcPH56CaM"
      },
      "source": [
        "# Imports\n"
      ],
      "execution_count": null,
      "outputs": []
    },
    {
      "cell_type": "markdown",
      "metadata": {
        "id": "7Djq4Nz1_5dD"
      },
      "source": [
        "Load Data"
      ]
    },
    {
      "cell_type": "code",
      "metadata": {
        "id": "x0N_O7tr5WV8"
      },
      "source": [
        "# Load Data\n"
      ],
      "execution_count": null,
      "outputs": []
    },
    {
      "cell_type": "markdown",
      "metadata": {
        "id": "FLjRIxpfBBTx"
      },
      "source": [
        "View the last 5 rows of the dataset."
      ]
    },
    {
      "cell_type": "code",
      "metadata": {
        "id": "sJI-55Um6Bdm"
      },
      "source": [
        ""
      ],
      "execution_count": null,
      "outputs": []
    },
    {
      "cell_type": "markdown",
      "metadata": {
        "id": "lZZDEgtLBHKI"
      },
      "source": [
        "Check the column datatypes"
      ]
    },
    {
      "cell_type": "code",
      "metadata": {
        "id": "xmegL8Xc7Zxd"
      },
      "source": [
        ""
      ],
      "execution_count": null,
      "outputs": []
    },
    {
      "cell_type": "markdown",
      "metadata": {
        "id": "X7vy6aXmB1w2"
      },
      "source": [
        "How many rows and columns are there?"
      ]
    },
    {
      "cell_type": "code",
      "metadata": {
        "id": "-L19p8UrtEIb"
      },
      "source": [
        ""
      ],
      "execution_count": null,
      "outputs": []
    },
    {
      "cell_type": "markdown",
      "metadata": {
        "id": "_VyISQiuCXDi"
      },
      "source": [
        "Select just the name column."
      ]
    },
    {
      "cell_type": "code",
      "metadata": {
        "id": "EAR9dCfAB9Sc"
      },
      "source": [
        "# As a series:\n"
      ],
      "execution_count": null,
      "outputs": []
    },
    {
      "cell_type": "code",
      "metadata": {
        "id": "WWGJ0OIACaTW"
      },
      "source": [
        "# As a dataframe:\n"
      ],
      "execution_count": null,
      "outputs": []
    },
    {
      "cell_type": "markdown",
      "metadata": {
        "id": "jd6bRyPHDHEA"
      },
      "source": [
        "Select rows 50 - 55 of the name column."
      ]
    },
    {
      "cell_type": "code",
      "metadata": {
        "id": "j5SfaAagCcnO"
      },
      "source": [
        ""
      ],
      "execution_count": null,
      "outputs": []
    },
    {
      "cell_type": "markdown",
      "metadata": {
        "id": "bZ48NIMetBTJ"
      },
      "source": [
        "Are there any duplicated names in the 'name' column?  If not, set 'name' to the index."
      ]
    },
    {
      "cell_type": "code",
      "metadata": {
        "id": "5cVXsj2htizw"
      },
      "source": [
        ""
      ],
      "execution_count": null,
      "outputs": []
    },
    {
      "cell_type": "code",
      "metadata": {
        "id": "1Lxn2lMHtnyZ"
      },
      "source": [
        ""
      ],
      "execution_count": null,
      "outputs": []
    },
    {
      "cell_type": "markdown",
      "metadata": {
        "id": "q_2tQPLlDidM"
      },
      "source": [
        "What are the unique values of manufacturers and how many of each are there?"
      ]
    },
    {
      "cell_type": "code",
      "metadata": {
        "id": "bGEOV-RlDPKj"
      },
      "source": [
        ""
      ],
      "execution_count": null,
      "outputs": []
    },
    {
      "cell_type": "markdown",
      "metadata": {
        "id": "gPfc0tEFiUoN"
      },
      "source": [
        "What is the average number of grams of sugar for all Kelloggs cereals?"
      ]
    },
    {
      "cell_type": "code",
      "metadata": {
        "id": "wm-2FpIZDpuy"
      },
      "source": [
        ""
      ],
      "execution_count": null,
      "outputs": []
    },
    {
      "cell_type": "markdown",
      "metadata": {
        "id": "cIwquCb8jAPE"
      },
      "source": [
        "How many grams of protein do Cheerios have?"
      ]
    },
    {
      "cell_type": "code",
      "metadata": {
        "id": "B8gCzLMsiQSX"
      },
      "source": [
        ""
      ],
      "execution_count": null,
      "outputs": []
    },
    {
      "cell_type": "markdown",
      "metadata": {
        "id": "B9aE4qewjsMP"
      },
      "source": [
        "Which cereals have fewer than 3 grams of sugars?"
      ]
    },
    {
      "cell_type": "code",
      "metadata": {
        "id": "TFdEvrsGi9cM"
      },
      "source": [
        ""
      ],
      "execution_count": null,
      "outputs": []
    },
    {
      "cell_type": "markdown",
      "metadata": {
        "id": "2_8MFWd1kO2Z"
      },
      "source": [
        "What are the minimum & maximum amount of calories per serving for General Mills cereals?"
      ]
    },
    {
      "cell_type": "code",
      "metadata": {
        "id": "4A9Se-k1jmyv"
      },
      "source": [
        ""
      ],
      "execution_count": null,
      "outputs": []
    },
    {
      "cell_type": "code",
      "metadata": {
        "id": "vbXhAFHzkION"
      },
      "source": [
        ""
      ],
      "execution_count": null,
      "outputs": []
    },
    {
      "cell_type": "markdown",
      "metadata": {
        "id": "EFbExbwYlP4_"
      },
      "source": [
        "Select all the columns for the cereal(s) with the lowest number of calories."
      ]
    },
    {
      "cell_type": "code",
      "metadata": {
        "id": "bpSZypLpkOVQ"
      },
      "source": [
        ""
      ],
      "execution_count": null,
      "outputs": []
    },
    {
      "cell_type": "markdown",
      "metadata": {
        "id": "Y663601wnXpb"
      },
      "source": [
        "How many cereals have 0 grams of fat?"
      ]
    },
    {
      "cell_type": "code",
      "metadata": {
        "id": "k8SGo2Tpmr5r"
      },
      "source": [
        ""
      ],
      "execution_count": null,
      "outputs": []
    },
    {
      "cell_type": "markdown",
      "metadata": {
        "id": "mxWoGfRmlXL7"
      },
      "source": [
        "Labeling laws changed!  2 or fewer grams of sugar can now be recorded as 0 grams of sugar.  Change all the values in 'grams of sugar' that are less than or equal to 2 to 0.\n",
        "\n",
        "\n"
      ]
    },
    {
      "cell_type": "code",
      "metadata": {
        "id": "F77zLXYrlao6"
      },
      "source": [
        ""
      ],
      "execution_count": null,
      "outputs": []
    },
    {
      "cell_type": "markdown",
      "metadata": {
        "id": "A0Q7P573wpqt"
      },
      "source": [
        "# Bonus!\n",
        "\n",
        "Group the dataframe by Manufacturer.\n",
        "\n",
        "Sort the result by the mean average grams of sugar for each manufacturer in descending order."
      ]
    },
    {
      "cell_type": "code",
      "metadata": {
        "id": "7TCbAnqUxCr-"
      },
      "source": [
        ""
      ],
      "execution_count": null,
      "outputs": []
    }
  ]
}